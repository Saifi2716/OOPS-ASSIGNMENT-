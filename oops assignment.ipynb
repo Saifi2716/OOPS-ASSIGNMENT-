{
 "cells": [
  {
   "cell_type": "code",
   "execution_count": 1,
   "id": "4a8f6fe1-5221-470d-a529-4cdcc6fdad53",
   "metadata": {},
   "outputs": [
    {
     "name": "stdout",
     "output_type": "stream",
     "text": [
      "Student: Alice, Age: 14, Grade: 9\n"
     ]
    }
   ],
   "source": [
    "\"\"\"Explain Class and Object with respect to Object-Oriented Programming. Give a suitable example.\"\"\"\n",
    "# Define a class named Student\n",
    "class Student:\n",
    "    # Constructor method to initialize attributes\n",
    "    def __init__(self, name, age, grade):\n",
    "        self.name = name  # Attribute to store student's name\n",
    "        self.age = age    # Attribute to store student's age\n",
    "        self.grade = grade  # Attribute to store student's grade\n",
    "    \n",
    "    # Method to get the student's information\n",
    "    def get_info(self):\n",
    "        return f\"Student: {self.name}, Age: {self.age}, Grade: {self.grade}\"\n",
    "\n",
    "# Creating an object of class Student\n",
    "student1 = Student(\"Alice\", 14, 9)\n",
    "\n",
    "# Accessing the object's method\n",
    "print(student1.get_info())\n"
   ]
  },
  {
   "cell_type": "code",
   "execution_count": null,
   "id": "c60e7f1f-fe31-4532-a650-1108b7628c47",
   "metadata": {},
   "outputs": [],
   "source": [
    "#Q2. Name the four pillars of OOPs.\n",
    "#The four pillars of OOP are:\n",
    "\n",
    "1. **Encapsulation**\n",
    "2. **Abstraction**\n",
    "3. **Inheritance**\n",
    "4. **Polymorphism**"
   ]
  },
  {
   "cell_type": "code",
   "execution_count": 3,
   "id": "452cfc78-4f7f-4125-9768-caa98de6254c",
   "metadata": {},
   "outputs": [
    {
     "name": "stdout",
     "output_type": "stream",
     "text": [
      "Car: Toyota, Model: Camry, Year: 2020\n"
     ]
    }
   ],
   "source": [
    "#Explain why the __init__() function is used. Give a suitable example.\n",
    "class Car:\n",
    "    # Constructor method to initialize attributes\n",
    "    def __init__(self, brand, model, year):\n",
    "        self.brand = brand  # Attribute for car's brand\n",
    "        self.model = model  # Attribute for car's model\n",
    "        self.year = year    # Attribute for car's manufacturing year\n",
    "    \n",
    "    # Method to display car details\n",
    "    def get_details(self):\n",
    "        return f\"Car: {self.brand}, Model: {self.model}, Year: {self.year}\"\n",
    "\n",
    "# Creating an object of class Car\n",
    "car1 = Car(\"Toyota\", \"Camry\", 2020)\n",
    "\n",
    "# Accessing the object's method\n",
    "print(car1.get_details())\n"
   ]
  },
  {
   "cell_type": "code",
   "execution_count": 5,
   "id": "22287eac-f74c-427c-9f07-44668baa1191",
   "metadata": {},
   "outputs": [],
   "source": [
    "#Why self is used in OOPs?\n",
    "# ANS : `self` in Python represents the current instance of a class, allowing access to its attributes and methods.\n",
    "class Dog:\n",
    "    def __init__(self, name):\n",
    "        self.name = name  # 'self' refers to the current object\n",
    "\n",
    "    def bark(self):\n",
    "        return f\"{self.name} is barking!\"  # 'self' accesses the object's 'name'\n"
   ]
  },
  {
   "cell_type": "code",
   "execution_count": 7,
   "id": "6163e042-e867-4267-a9cd-a85c6f3e68bc",
   "metadata": {},
   "outputs": [],
   "source": [
    "#What is inheritance? Give an example for each type of inheritance.\n",
    "# ANS : Inheritance is the mechanism in OOP where a class inherits properties and behaviors from another class.\n",
    "class Animal:\n",
    "    def sound(self):\n",
    "        return \"Some sound\"\n",
    "\n",
    "class Dog(Animal):  # Dog inherits from Animal\n",
    "    def bark(self):\n",
    "        return \"Woof!\"\n",
    "\n"
   ]
  },
  {
   "cell_type": "code",
   "execution_count": null,
   "id": "e38de5e4-05e6-473a-b312-fa85bcb806c1",
   "metadata": {},
   "outputs": [],
   "source": []
  }
 ],
 "metadata": {
  "kernelspec": {
   "display_name": "Python 3 (ipykernel)",
   "language": "python",
   "name": "python3"
  },
  "language_info": {
   "codemirror_mode": {
    "name": "ipython",
    "version": 3
   },
   "file_extension": ".py",
   "mimetype": "text/x-python",
   "name": "python",
   "nbconvert_exporter": "python",
   "pygments_lexer": "ipython3",
   "version": "3.12.4"
  }
 },
 "nbformat": 4,
 "nbformat_minor": 5
}
